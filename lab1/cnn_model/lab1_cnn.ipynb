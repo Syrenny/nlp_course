{
 "cells": [
  {
   "cell_type": "code",
   "execution_count": 19,
   "metadata": {
    "id": "2LYbIEjx1o6S",
    "colab": {
     "base_uri": "https://localhost:8080/"
    },
    "outputId": "8b1fbae6-9370-4397-a9bf-4434aa0aed08",
    "ExecuteTime": {
     "end_time": "2023-11-03T01:33:56.551860989Z",
     "start_time": "2023-11-03T01:33:49.340441Z"
    }
   },
   "outputs": [
    {
     "name": "stdout",
     "output_type": "stream",
     "text": [
      "Collecting ru-core-news-sm==3.7.0\r\n",
      "  Downloading https://github.com/explosion/spacy-models/releases/download/ru_core_news_sm-3.7.0/ru_core_news_sm-3.7.0-py3-none-any.whl (15.3 MB)\r\n",
      "\u001B[2K     \u001B[90m━━━━━━━━━━━━━━━━━━━━━━━━━━━━━━━━━━━━━━━━\u001B[0m \u001B[32m15.3/15.3 MB\u001B[0m \u001B[31m8.8 MB/s\u001B[0m eta \u001B[36m0:00:00\u001B[0m00:01\u001B[0m00:01\u001B[0mm\r\n",
      "\u001B[?25hRequirement already satisfied: spacy<3.8.0,>=3.7.0 in /home/ilyusha/Desktop/nlp/venv/lib/python3.10/site-packages (from ru-core-news-sm==3.7.0) (3.7.2)\r\n",
      "Requirement already satisfied: pymorphy3>=1.0.0 in /home/ilyusha/Desktop/nlp/venv/lib/python3.10/site-packages (from ru-core-news-sm==3.7.0) (1.2.1)\r\n",
      "Requirement already satisfied: pymorphy3-dicts-ru in /home/ilyusha/Desktop/nlp/venv/lib/python3.10/site-packages (from pymorphy3>=1.0.0->ru-core-news-sm==3.7.0) (2.4.417150.4580142)\r\n",
      "Requirement already satisfied: dawg-python>=0.7.1 in /home/ilyusha/Desktop/nlp/venv/lib/python3.10/site-packages (from pymorphy3>=1.0.0->ru-core-news-sm==3.7.0) (0.7.2)\r\n",
      "Requirement already satisfied: docopt-ng>=0.6 in /home/ilyusha/Desktop/nlp/venv/lib/python3.10/site-packages (from pymorphy3>=1.0.0->ru-core-news-sm==3.7.0) (0.9.0)\r\n",
      "Requirement already satisfied: cymem<2.1.0,>=2.0.2 in /home/ilyusha/Desktop/nlp/venv/lib/python3.10/site-packages (from spacy<3.8.0,>=3.7.0->ru-core-news-sm==3.7.0) (2.0.8)\r\n",
      "Requirement already satisfied: packaging>=20.0 in /home/ilyusha/Desktop/nlp/venv/lib/python3.10/site-packages (from spacy<3.8.0,>=3.7.0->ru-core-news-sm==3.7.0) (23.2)\r\n",
      "Requirement already satisfied: typer<0.10.0,>=0.3.0 in /home/ilyusha/Desktop/nlp/venv/lib/python3.10/site-packages (from spacy<3.8.0,>=3.7.0->ru-core-news-sm==3.7.0) (0.9.0)\r\n",
      "Requirement already satisfied: thinc<8.3.0,>=8.1.8 in /home/ilyusha/Desktop/nlp/venv/lib/python3.10/site-packages (from spacy<3.8.0,>=3.7.0->ru-core-news-sm==3.7.0) (8.2.1)\r\n",
      "Requirement already satisfied: smart-open<7.0.0,>=5.2.1 in /home/ilyusha/Desktop/nlp/venv/lib/python3.10/site-packages (from spacy<3.8.0,>=3.7.0->ru-core-news-sm==3.7.0) (6.4.0)\r\n",
      "Requirement already satisfied: srsly<3.0.0,>=2.4.3 in /home/ilyusha/Desktop/nlp/venv/lib/python3.10/site-packages (from spacy<3.8.0,>=3.7.0->ru-core-news-sm==3.7.0) (2.4.8)\r\n",
      "Requirement already satisfied: murmurhash<1.1.0,>=0.28.0 in /home/ilyusha/Desktop/nlp/venv/lib/python3.10/site-packages (from spacy<3.8.0,>=3.7.0->ru-core-news-sm==3.7.0) (1.0.10)\r\n",
      "Requirement already satisfied: numpy>=1.19.0 in /home/ilyusha/Desktop/nlp/venv/lib/python3.10/site-packages (from spacy<3.8.0,>=3.7.0->ru-core-news-sm==3.7.0) (1.26.1)\r\n",
      "Requirement already satisfied: requests<3.0.0,>=2.13.0 in /home/ilyusha/Desktop/nlp/venv/lib/python3.10/site-packages (from spacy<3.8.0,>=3.7.0->ru-core-news-sm==3.7.0) (2.31.0)\r\n",
      "Requirement already satisfied: weasel<0.4.0,>=0.1.0 in /home/ilyusha/Desktop/nlp/venv/lib/python3.10/site-packages (from spacy<3.8.0,>=3.7.0->ru-core-news-sm==3.7.0) (0.3.3)\r\n",
      "Requirement already satisfied: setuptools in /home/ilyusha/Desktop/nlp/venv/lib/python3.10/site-packages (from spacy<3.8.0,>=3.7.0->ru-core-news-sm==3.7.0) (65.5.1)\r\n",
      "Requirement already satisfied: spacy-loggers<2.0.0,>=1.0.0 in /home/ilyusha/Desktop/nlp/venv/lib/python3.10/site-packages (from spacy<3.8.0,>=3.7.0->ru-core-news-sm==3.7.0) (1.0.5)\r\n",
      "Requirement already satisfied: tqdm<5.0.0,>=4.38.0 in /home/ilyusha/Desktop/nlp/venv/lib/python3.10/site-packages (from spacy<3.8.0,>=3.7.0->ru-core-news-sm==3.7.0) (4.66.1)\r\n",
      "Requirement already satisfied: jinja2 in /home/ilyusha/Desktop/nlp/venv/lib/python3.10/site-packages (from spacy<3.8.0,>=3.7.0->ru-core-news-sm==3.7.0) (3.1.2)\r\n",
      "Requirement already satisfied: catalogue<2.1.0,>=2.0.6 in /home/ilyusha/Desktop/nlp/venv/lib/python3.10/site-packages (from spacy<3.8.0,>=3.7.0->ru-core-news-sm==3.7.0) (2.0.10)\r\n",
      "Requirement already satisfied: preshed<3.1.0,>=3.0.2 in /home/ilyusha/Desktop/nlp/venv/lib/python3.10/site-packages (from spacy<3.8.0,>=3.7.0->ru-core-news-sm==3.7.0) (3.0.9)\r\n",
      "Requirement already satisfied: spacy-legacy<3.1.0,>=3.0.11 in /home/ilyusha/Desktop/nlp/venv/lib/python3.10/site-packages (from spacy<3.8.0,>=3.7.0->ru-core-news-sm==3.7.0) (3.0.12)\r\n",
      "Requirement already satisfied: wasabi<1.2.0,>=0.9.1 in /home/ilyusha/Desktop/nlp/venv/lib/python3.10/site-packages (from spacy<3.8.0,>=3.7.0->ru-core-news-sm==3.7.0) (1.1.2)\r\n",
      "Requirement already satisfied: langcodes<4.0.0,>=3.2.0 in /home/ilyusha/Desktop/nlp/venv/lib/python3.10/site-packages (from spacy<3.8.0,>=3.7.0->ru-core-news-sm==3.7.0) (3.3.0)\r\n",
      "Requirement already satisfied: pydantic!=1.8,!=1.8.1,<3.0.0,>=1.7.4 in /home/ilyusha/Desktop/nlp/venv/lib/python3.10/site-packages (from spacy<3.8.0,>=3.7.0->ru-core-news-sm==3.7.0) (2.4.2)\r\n",
      "Requirement already satisfied: typing-extensions>=4.6.1 in /home/ilyusha/Desktop/nlp/venv/lib/python3.10/site-packages (from pydantic!=1.8,!=1.8.1,<3.0.0,>=1.7.4->spacy<3.8.0,>=3.7.0->ru-core-news-sm==3.7.0) (4.8.0)\r\n",
      "Requirement already satisfied: pydantic-core==2.10.1 in /home/ilyusha/Desktop/nlp/venv/lib/python3.10/site-packages (from pydantic!=1.8,!=1.8.1,<3.0.0,>=1.7.4->spacy<3.8.0,>=3.7.0->ru-core-news-sm==3.7.0) (2.10.1)\r\n",
      "Requirement already satisfied: annotated-types>=0.4.0 in /home/ilyusha/Desktop/nlp/venv/lib/python3.10/site-packages (from pydantic!=1.8,!=1.8.1,<3.0.0,>=1.7.4->spacy<3.8.0,>=3.7.0->ru-core-news-sm==3.7.0) (0.6.0)\r\n",
      "Requirement already satisfied: urllib3<3,>=1.21.1 in /home/ilyusha/Desktop/nlp/venv/lib/python3.10/site-packages (from requests<3.0.0,>=2.13.0->spacy<3.8.0,>=3.7.0->ru-core-news-sm==3.7.0) (2.0.7)\r\n",
      "Requirement already satisfied: idna<4,>=2.5 in /home/ilyusha/Desktop/nlp/venv/lib/python3.10/site-packages (from requests<3.0.0,>=2.13.0->spacy<3.8.0,>=3.7.0->ru-core-news-sm==3.7.0) (3.4)\r\n",
      "Requirement already satisfied: charset-normalizer<4,>=2 in /home/ilyusha/Desktop/nlp/venv/lib/python3.10/site-packages (from requests<3.0.0,>=2.13.0->spacy<3.8.0,>=3.7.0->ru-core-news-sm==3.7.0) (3.3.2)\r\n",
      "Requirement already satisfied: certifi>=2017.4.17 in /home/ilyusha/Desktop/nlp/venv/lib/python3.10/site-packages (from requests<3.0.0,>=2.13.0->spacy<3.8.0,>=3.7.0->ru-core-news-sm==3.7.0) (2023.7.22)\r\n",
      "Requirement already satisfied: blis<0.8.0,>=0.7.8 in /home/ilyusha/Desktop/nlp/venv/lib/python3.10/site-packages (from thinc<8.3.0,>=8.1.8->spacy<3.8.0,>=3.7.0->ru-core-news-sm==3.7.0) (0.7.11)\r\n",
      "Requirement already satisfied: confection<1.0.0,>=0.0.1 in /home/ilyusha/Desktop/nlp/venv/lib/python3.10/site-packages (from thinc<8.3.0,>=8.1.8->spacy<3.8.0,>=3.7.0->ru-core-news-sm==3.7.0) (0.1.3)\r\n",
      "Requirement already satisfied: click<9.0.0,>=7.1.1 in /home/ilyusha/Desktop/nlp/venv/lib/python3.10/site-packages (from typer<0.10.0,>=0.3.0->spacy<3.8.0,>=3.7.0->ru-core-news-sm==3.7.0) (8.1.7)\r\n",
      "Requirement already satisfied: cloudpathlib<0.17.0,>=0.7.0 in /home/ilyusha/Desktop/nlp/venv/lib/python3.10/site-packages (from weasel<0.4.0,>=0.1.0->spacy<3.8.0,>=3.7.0->ru-core-news-sm==3.7.0) (0.16.0)\r\n",
      "Requirement already satisfied: MarkupSafe>=2.0 in /home/ilyusha/Desktop/nlp/venv/lib/python3.10/site-packages (from jinja2->spacy<3.8.0,>=3.7.0->ru-core-news-sm==3.7.0) (2.1.3)\r\n",
      "\r\n",
      "\u001B[1m[\u001B[0m\u001B[34;49mnotice\u001B[0m\u001B[1;39;49m]\u001B[0m\u001B[39;49m A new release of pip available: \u001B[0m\u001B[31;49m22.3.1\u001B[0m\u001B[39;49m -> \u001B[0m\u001B[32;49m23.3.1\u001B[0m\r\n",
      "\u001B[1m[\u001B[0m\u001B[34;49mnotice\u001B[0m\u001B[1;39;49m]\u001B[0m\u001B[39;49m To update, run: \u001B[0m\u001B[32;49mpip install --upgrade pip\u001B[0m\r\n",
      "\u001B[38;5;2m✔ Download and installation successful\u001B[0m\r\n",
      "You can now load the package via spacy.load('ru_core_news_sm')\r\n"
     ]
    }
   ],
   "source": [
    "!python -m spacy download ru_core_news_sm"
   ]
  },
  {
   "cell_type": "code",
   "execution_count": 20,
   "metadata": {
    "id": "ALn_QDMnGY7Y",
    "ExecuteTime": {
     "end_time": "2023-11-03T01:33:58.094107630Z",
     "start_time": "2023-11-03T01:33:56.539443522Z"
    }
   },
   "outputs": [],
   "source": [
    "import spacy\n",
    "import pandas as pd\n",
    "import numpy as np\n",
    "from sklearn.model_selection import train_test_split\n",
    "\n",
    "from tqdm import tqdm\n",
    "from spacy.tokens import DocBin\n",
    "\n",
    "nlp = spacy.load(\"ru_core_news_sm\")"
   ]
  },
  {
   "cell_type": "code",
   "execution_count": 21,
   "metadata": {
    "id": "2lsjWG-g1o6c",
    "colab": {
     "base_uri": "https://localhost:8080/"
    },
    "outputId": "96da83bb-80b2-409f-bfef-dcd24b6dbd77",
    "ExecuteTime": {
     "end_time": "2023-11-03T01:33:59.690086454Z",
     "start_time": "2023-11-03T01:33:58.101322331Z"
    }
   },
   "outputs": [
    {
     "name": "stdout",
     "output_type": "stream",
     "text": [
      "                                                     text     label\n",
      "0                                    скотина! что сказать  [INSULT]\n",
      "1       я сегодня проезжала по рабочей и между домами ...  [NORMAL]\n",
      "2       очередной лохотрон. зачем придумывать очередно...  [NORMAL]\n",
      "3       ретро дежавю ... сложно понять чужое сердце , ...  [NORMAL]\n",
      "4                 а когда мы статус агрогородка получили?  [NORMAL]\n",
      "...                                                   ...       ...\n",
      "248285                       правильно всё по пять (5)...  [NORMAL]\n",
      "248286  ёбанные нубы заходите на сервер мой ник _creep...  [INSULT]\n",
      "248287  а у меня наверное рекорд в 1962 году в училище...  [NORMAL]\n",
      "248288                              спасибо всем большое)  [NORMAL]\n",
      "248289  нельзя ли увеличить хотя бы в два раза некотор...  [NORMAL]\n",
      "\n",
      "[248290 rows x 2 columns]\n"
     ]
    }
   ],
   "source": [
    "with open('dataset/toxic_comments.txt', \"r\") as file:\n",
    "    file_readen = file.read().split(\"\\n\")\n",
    "\n",
    "labels = np.array(list(map(lambda x: list(map(lambda y: y[9 :], x.split(\" \")[0].split(\",\"))), file_readen))[: -1], dtype=\"object\")\n",
    "text = list(map(lambda x: \" \".join(x.split(\" \")[1 :]), file_readen))[: -1]\n",
    "df = pd.DataFrame(np.array([text, labels]).T, columns = [\"text\", \"label\"])\n",
    "print(df)"
   ]
  },
  {
   "cell_type": "code",
   "execution_count": 22,
   "metadata": {
    "id": "KjM9p3jo1o6e",
    "colab": {
     "base_uri": "https://localhost:8080/"
    },
    "outputId": "d37cadda-0348-42c2-db44-70188cdd8fd0",
    "ExecuteTime": {
     "end_time": "2023-11-03T01:33:59.736679787Z",
     "start_time": "2023-11-03T01:33:59.686784865Z"
    }
   },
   "outputs": [
    {
     "name": "stdout",
     "output_type": "stream",
     "text": [
      "                                                     text             label\n",
      "147438                            вечная память погранцу!          [NORMAL]\n",
      "30156                номер не подскажите, как записаться?          [NORMAL]\n",
      "118427  лукашенко за себя переживает. ​россию возможно...          [NORMAL]\n",
      "246481                   дай боженька тебе здоровья данил          [NORMAL]\n",
      "25537   ну вот вы хоть бы смотрели что за бред пишете-...          [NORMAL]\n",
      "...                                                   ...               ...\n",
      "154244                  из двух яиц. 2-фото - с куркумой.          [NORMAL]\n",
      "157376  дебил блин к яйцам своим прислони и на курок н...          [INSULT]\n",
      "181093  вот на сурка ездили сравнивали коробки !и в ко...          [INSULT]\n",
      "176769             назвать его дебилом -дебила оскорбить!          [INSULT]\n",
      "215737                                 разорвать ублюдка!  [INSULT, THREAT]\n",
      "\n",
      "[124145 rows x 2 columns]\n"
     ]
    }
   ],
   "source": [
    "df = df.sample(frac=0.5)\n",
    "print(df)"
   ]
  },
  {
   "cell_type": "code",
   "execution_count": 23,
   "metadata": {
    "id": "FQsRQ4eS1o6j",
    "colab": {
     "base_uri": "https://localhost:8080/"
    },
    "outputId": "112a5ca8-eacf-492a-c994-62576b952532",
    "ExecuteTime": {
     "end_time": "2023-11-03T01:34:04.320042020Z",
     "start_time": "2023-11-03T01:33:59.762104904Z"
    }
   },
   "outputs": [
    {
     "name": "stdout",
     "output_type": "stream",
     "text": [
      "[('вечная память погранцу!', ['NORMAL']), ('номер не подскажите, как записаться?', ['NORMAL']), ('лукашенко за себя переживает. \\u200bроссию возможно хочет припугнуть и американцам понравиться.', ['NORMAL']), ('дай боженька тебе здоровья данил', ['NORMAL']), ('ну вот вы хоть бы смотрели что за бред пишете-ну россия братский народ а украина раве не братский народ то!!!и уже пора прекратить этот визг про бандеровцев-подустали все уже от вашей брехни и писанины!!!правильно делает-лукаш-не отдает на ратерзание беларусь ворам московским-везде своих в конце концов хватает-а тут беспредельщики отпетые-уголощина-россию всю разграбили и туда добраться хотят-беларусь живут небогато но там порядок а не бнспредельный грабеж-как в россии кто во что горазд', ['NORMAL']), ('лучше бы набережную зделали...', ['NORMAL']), ('21 см больше ширина 8 см если чо обращайся', ['NORMAL']), ('а ей толстый в рот чтоб меньше пиздела', ['INSULT', 'OBSCENITY']), ('вы что делаете сволочи, убивать вас надо!', ['INSULT', 'THREAT']), ('цена?и электричество есть', ['NORMAL'])]\n"
     ]
    }
   ],
   "source": [
    "data = [tuple(df.iloc[i].values) for i in range(df.shape[0])]\n",
    "print(data[:10])"
   ]
  },
  {
   "cell_type": "code",
   "execution_count": 24,
   "metadata": {
    "id": "lKMsUKfV1o6k",
    "ExecuteTime": {
     "end_time": "2023-11-03T01:34:04.469640774Z",
     "start_time": "2023-11-03T01:34:04.324283622Z"
    }
   },
   "outputs": [],
   "source": [
    "train_data, valid_data = train_test_split(data, test_size=0.3, random_state=42, shuffle=True)\n",
    "valid_data, test_data = train_test_split(valid_data, test_size=0.1, random_state=13, shuffle=True)"
   ]
  },
  {
   "cell_type": "code",
   "execution_count": 25,
   "metadata": {
    "id": "OiCg-Nr2Ga3Z",
    "ExecuteTime": {
     "end_time": "2023-11-03T01:34:04.517654377Z",
     "start_time": "2023-11-03T01:34:04.475775528Z"
    }
   },
   "outputs": [],
   "source": [
    "def make_docs(data):\n",
    "    \"\"\"\n",
    "    this will take a list of texts and labels\n",
    "    and transform them in spacy documents\n",
    "    data: list(tuple(text, label))\n",
    "    returns: List(spacy.Doc.doc)\n",
    "    \"\"\"\n",
    "    docs = []\n",
    "    # nlp.pipe([texts]) is way faster than running\n",
    "    # nlp(text) for each text\n",
    "    # as_tuples allows us to pass in a tuple,\n",
    "    # the first one is treated as text\n",
    "    # the second one will get returned as it is.\n",
    "    # a = tqdm(nlp.pipe(data, as_tuples=True), total = len(data))\n",
    "    for doc, labels in tqdm(nlp.pipe(data, as_tuples=True), total = len(data)):\n",
    "        doc.cats = {\"normal\": 0,\n",
    "                    \"insult\": 0,\n",
    "                    \"threat\": 0,\n",
    "                    \"obscenity\": 0}\n",
    "        if 'NORMAL' in labels:\n",
    "          doc.cats[\"normal\"] = 1\n",
    "        if 'INSULT' in labels:\n",
    "          doc.cats[\"insult\"] = 1\n",
    "        if 'THREAT' in labels:\n",
    "          doc.cats[\"threat\"] = 1\n",
    "        if 'OBSCENITY' in labels:\n",
    "          doc.cats[\"obscenity\"] = 1\n",
    "        docs.append(doc)\n",
    "    return docs"
   ]
  },
  {
   "cell_type": "code",
   "execution_count": 26,
   "metadata": {
    "id": "ogVuX_fKGdrb",
    "colab": {
     "base_uri": "https://localhost:8080/"
    },
    "outputId": "d4913202-b785-4c63-f8af-4c67f13c3e82",
    "ExecuteTime": {
     "end_time": "2023-11-03T01:34:42.668230107Z",
     "start_time": "2023-11-03T01:34:04.517369640Z"
    }
   },
   "outputs": [
    {
     "name": "stderr",
     "output_type": "stream",
     "text": [
      "100%|██████████| 5000/5000 [00:38<00:00, 131.22it/s]\n"
     ]
    }
   ],
   "source": [
    "# we are so far only interested in the first 5000 reviews\n",
    "# this will keep the training time short.\n",
    "# In practice take as much data as you can get.\n",
    "# you can always reduce it to make the script even faster.\n",
    "num_texts = 5000\n",
    "# first we need to transform all the training data\n",
    "train_docs = make_docs(train_data[:num_texts])"
   ]
  },
  {
   "cell_type": "code",
   "execution_count": 27,
   "metadata": {
    "id": "hL3c5jIJHijB",
    "colab": {
     "base_uri": "https://localhost:8080/"
    },
    "outputId": "a3101c6c-3f8f-4b18-a936-4cc8f69041f9",
    "ExecuteTime": {
     "end_time": "2023-11-03T01:35:21.267137702Z",
     "start_time": "2023-11-03T01:34:43.084181598Z"
    }
   },
   "outputs": [
    {
     "name": "stderr",
     "output_type": "stream",
     "text": [
      "100%|██████████| 5000/5000 [00:37<00:00, 134.08it/s]\n"
     ]
    }
   ],
   "source": [
    "# then we save it in a binary file to disc\n",
    "doc_bin = DocBin(docs=train_docs)\n",
    "doc_bin.to_disk(\"spacy/train.spacy\")\n",
    "# repeat for validation data\n",
    "valid_docs = make_docs(valid_data[:num_texts])\n",
    "doc_bin = DocBin(docs=valid_docs)\n",
    "doc_bin.to_disk(\"spacy/valid.spacy\")"
   ]
  },
  {
   "cell_type": "code",
   "source": [
    "! python -m spacy init fill-config base_config_cnn.cfg config_cnn.cfg"
   ],
   "metadata": {
    "colab": {
     "base_uri": "https://localhost:8080/"
    },
    "id": "fQT7xJ6lb6XQ",
    "outputId": "cd8d5a75-5a48-4037-febc-8b163a437a97",
    "ExecuteTime": {
     "end_time": "2023-11-03T01:35:22.693546982Z",
     "start_time": "2023-11-03T01:35:21.271476217Z"
    }
   },
   "execution_count": 28,
   "outputs": [
    {
     "name": "stdout",
     "output_type": "stream",
     "text": [
      "\u001B[38;5;2m✔ Auto-filled config with all values\u001B[0m\r\n",
      "\u001B[38;5;2m✔ Saved config\u001B[0m\r\n",
      "config_cnn.cfg\r\n",
      "You can now add your data and train your pipeline:\r\n",
      "python -m spacy train config_cnn.cfg --paths.train ./train.spacy --paths.dev ./dev.spacy\r\n"
     ]
    }
   ]
  },
  {
   "cell_type": "code",
   "source": [
    "! python -m spacy train config_cnn.cfg --output ./output --paths.train ./spacy/train.spacy --paths.dev ./spacy/valid.spacy"
   ],
   "metadata": {
    "colab": {
     "base_uri": "https://localhost:8080/"
    },
    "id": "W0jOR1nRdFYI",
    "outputId": "f4b3f6b9-647c-48be-c2de-08493f4e9f54",
    "ExecuteTime": {
     "end_time": "2023-11-03T01:44:00.828053137Z",
     "start_time": "2023-11-03T01:35:22.697801398Z"
    }
   },
   "execution_count": 29,
   "outputs": [
    {
     "name": "stdout",
     "output_type": "stream",
     "text": [
      "\u001B[38;5;4mℹ Saving to output directory: output\u001B[0m\r\n",
      "\u001B[38;5;4mℹ Using CPU\u001B[0m\r\n",
      "\u001B[1m\r\n",
      "=========================== Initializing pipeline ===========================\u001B[0m\r\n",
      "\u001B[38;5;2m✔ Initialized pipeline\u001B[0m\r\n",
      "\u001B[1m\r\n",
      "============================= Training pipeline =============================\u001B[0m\r\n",
      "\u001B[38;5;4mℹ Pipeline: ['textcat_multilabel']\u001B[0m\r\n",
      "\u001B[38;5;4mℹ Initial learn rate: 0.001\u001B[0m\r\n",
      "E    #       LOSS TEXTC...  CATS_SCORE  SCORE \r\n",
      "---  ------  -------------  ----------  ------\r\n",
      "  0       0           0.36       52.22    0.52\r\n",
      "  0     200          17.78       65.68    0.66\r\n",
      "  0     400          17.67       75.08    0.75\r\n",
      "  0     600          13.44       79.29    0.79\r\n",
      "  1     800           9.77       83.46    0.83\r\n",
      "  2    1000           9.31       83.86    0.84\r\n",
      "  2    1200           5.80       83.90    0.84\r\n",
      "  3    1400           4.12       84.34    0.84\r\n",
      "  4    1600           2.73       86.96    0.87\r\n",
      "  6    1800           1.92       87.76    0.88\r\n",
      "  7    2000           1.17       86.94    0.87\r\n",
      "  9    2200           0.79       88.24    0.88\r\n",
      " 12    2400           0.55       87.97    0.88\r\n",
      " 14    2600           0.43       87.80    0.88\r\n",
      " 17    2800           0.37       87.76    0.88\r\n",
      " 19    3000           0.32       87.11    0.87\r\n",
      " 22    3200           0.30       87.60    0.88\r\n",
      " 24    3400           0.29       87.03    0.87\r\n",
      " 27    3600           0.31       87.13    0.87\r\n",
      " 29    3800           0.31       87.74    0.88\r\n",
      "\u001B[38;5;2m✔ Saved pipeline to output directory\u001B[0m\r\n",
      "output/model-last\r\n"
     ]
    }
   ]
  },
  {
   "cell_type": "code",
   "execution_count": 38,
   "metadata": {
    "id": "j1tnFjeaILJu",
    "colab": {
     "base_uri": "https://localhost:8080/"
    },
    "outputId": "35d02bed-a29c-48ff-fc25-2d8b0d7c6453",
    "ExecuteTime": {
     "end_time": "2023-11-03T01:48:33.097175043Z",
     "start_time": "2023-11-03T01:48:32.708941241Z"
    }
   },
   "outputs": [
    {
     "name": "stdout",
     "output_type": "stream",
     "text": [
      "3725\n",
      "Sample: вот и твоя лампочка дешовая сможет и током убить\n",
      "Labels: ['NORMAL']\n",
      "Output: {'normal': 0.003944293595850468, 'insult': 0.9712647795677185, 'threat': 0.5361783504486084, 'obscenity': 0.0014036307111382484}\n",
      "\n",
      "Sample: ну все тоже самое, пишет загрузка и все.\n",
      "Labels: ['NORMAL']\n",
      "Output: {'normal': 0.9972240924835205, 'insult': 0.0022688533645123243, 'threat': 0.00011853757314383984, 'obscenity': 1.9444718418526463e-05}\n",
      "\n",
      "Sample: помним скорбим .0\n",
      "Labels: ['NORMAL']\n",
      "Output: {'normal': 0.9999943971633911, 'insult': 1.886250402094447e-06, 'threat': 8.815339242573828e-06, 'obscenity': 1.8113003534381278e-05}\n",
      "\n",
      "Sample: так сколько мне оплатить то?\n",
      "Labels: ['NORMAL']\n",
      "Output: {'normal': 0.9999974966049194, 'insult': 1.0838529078682768e-06, 'threat': 1.4471313988906331e-05, 'obscenity': 1.3646133993461262e-05}\n",
      "\n",
      "Sample: скопление пидорасов,усов не хватает.\n",
      "Labels: ['INSULT']\n",
      "Output: {'normal': 0.0008266202639788389, 'insult': 0.9995357990264893, 'threat': 0.01228500995784998, 'obscenity': 8.96014717000071e-06}\n",
      "\n",
      "Sample: в интернете есть средство палач называется! вот такая штука👍﻿👍﻿👍﻿не только клопов всех насекомых уничтожает! дорогая но эффективная!!!\n",
      "Labels: ['NORMAL']\n",
      "Output: {'normal': 0.9969556331634521, 'insult': 0.00923794787377119, 'threat': 0.0006935300771147013, 'obscenity': 0.00010932807344943285}\n",
      "\n",
      "Sample: лапочка, с днем рождения! будь счастлив и удача всегда сопутствует тебе.🎁🎂🎈🎈🎈\n",
      "Labels: ['NORMAL']\n",
      "Output: {'normal': 0.999996542930603, 'insult': 5.156309271114878e-06, 'threat': 3.0577692086808383e-05, 'obscenity': 1.002999852062203e-05}\n",
      "\n",
      "Sample: у меня тоже в моей молодости был хороший урожай клубники,но я собирала одним ведром и сыпала в другую посуду,а сдесь похоже за каждым ведром в магазин бегали?а потом зачем столько столько вёдер?это какой-то подвох,скорее заготконтора\n",
      "Labels: ['NORMAL']\n",
      "Output: {'normal': 0.9999954700469971, 'insult': 2.512499486329034e-05, 'threat': 9.610671986592934e-05, 'obscenity': 4.036789323436096e-05}\n",
      "\n",
      "Sample: тебе тоже повезло, чего уж ты))))) дождалась урну, наконец то, в конце лета 😂\n",
      "Labels: ['NORMAL']\n",
      "Output: {'normal': 0.9988762736320496, 'insult': 0.0019129279535263777, 'threat': 0.0010531357256695628, 'obscenity': 0.00020207568013574928}\n",
      "\n",
      "Sample: без доков не вяжет.\n",
      "Labels: ['NORMAL']\n",
      "Output: {'normal': 0.9999995231628418, 'insult': 8.775845117270364e-07, 'threat': 8.328071089636069e-06, 'obscenity': 2.1982677935739048e-06}\n",
      "\n",
      "Sample: а стал похож на урода !!!\n",
      "Labels: ['INSULT']\n",
      "Output: {'normal': 0.9952526092529297, 'insult': 0.0009752672631293535, 'threat': 0.00015965277270879596, 'obscenity': 8.515489753335714e-05}\n",
      "\n",
      "Sample: скоро и вы к нам , немного осталось!\n",
      "Labels: ['NORMAL']\n",
      "Output: {'normal': 0.9997449517250061, 'insult': 0.00012803969730157405, 'threat': 0.0010614859638735652, 'obscenity': 2.3689013687544502e-05}\n",
      "\n",
      "Sample: хуеплеты\n",
      "Labels: ['INSULT']\n",
      "Output: {'normal': 1.0, 'insult': 2.061153470123145e-09, 'threat': 2.1370640812534702e-09, 'obscenity': 1.7514764749648748e-06}\n",
      "\n",
      "Sample: молодец как много дары природы теперь консервироватьна зиму\n",
      "Labels: ['NORMAL']\n",
      "Output: {'normal': 0.9998047947883606, 'insult': 2.50953235081397e-05, 'threat': 8.002975664567202e-05, 'obscenity': 0.0011574962409213185}\n",
      "\n",
      "Sample: все знают, что все манипуляции нужно делать на полную луну. 03.августа полнолуние, ну и 04 и 05 августа, нужно стрич , а также подравнивать, красить, делать маски, ну всё, что хотите с волосами, ногтями и кожей. но не на убывающую луну. а у вас здесь все наоборот написано. на убывающую луну можно делать чистку организма от паразитов, сдавать анализы, худеть\n",
      "Labels: ['NORMAL']\n",
      "Output: {'normal': 0.9935600757598877, 'insult': 0.009074949659407139, 'threat': 0.0030664836522191763, 'obscenity': 0.0017793228616937995}\n",
      "\n",
      "Sample: падла ты поганая тебя надо за яйца подвесить мразь .\n",
      "Labels: ['INSULT', 'THREAT']\n",
      "Output: {'normal': 2.061153470123145e-09, 'insult': 1.0, 'threat': 0.9589593410491943, 'obscenity': 0.0015229812124744058}\n",
      "\n",
      "Sample: корм для змеи нужен\n",
      "Labels: ['NORMAL']\n",
      "Output: {'normal': 1.0, 'insult': 1.979740993363066e-08, 'threat': 4.256403826730093e-06, 'obscenity': 2.2879572014744554e-08}\n",
      "\n",
      "Sample: отсоси гейтс\n",
      "Labels: ['OBSCENITY']\n",
      "Output: {'normal': 0.9869202375411987, 'insult': 0.019356193020939827, 'threat': 6.962178389358087e-08, 'obscenity': 0.0016154319746419787}\n",
      "\n",
      "Sample: у власти где совесть?\n",
      "Labels: ['NORMAL']\n",
      "Output: {'normal': 0.9999997615814209, 'insult': 1.8676973922993056e-07, 'threat': 5.612046152236871e-06, 'obscenity': 7.363767053902848e-06}\n",
      "\n",
      "Sample: где давинчи. вот с кого нужно джаконду писать.\n",
      "Labels: ['NORMAL']\n",
      "Output: {'normal': 0.9996966123580933, 'insult': 0.014959749765694141, 'threat': 0.0007279216661117971, 'obscenity': 2.6880377390625654e-06}\n"
     ]
    }
   ],
   "source": [
    "import spacy\n",
    "# load the best model from training\n",
    "nlp = spacy.load(\"output/model-best\")    \n",
    "for text, labels in test_data[:20]:\n",
    "    doc = nlp(text)\n",
    "    print(f\"Sample: {text}\\nLabels: {labels}\\nOutput: {doc.cats}\\n\")"
   ]
  }
 ],
 "metadata": {
  "colab": {
   "provenance": []
  },
  "kernelspec": {
   "display_name": "Python 3",
   "language": "python",
   "name": "python3"
  },
  "language_info": {
   "codemirror_mode": {
    "name": "ipython",
    "version": 3
   },
   "file_extension": ".py",
   "mimetype": "text/x-python",
   "name": "python",
   "nbconvert_exporter": "python",
   "pygments_lexer": "ipython3",
   "version": "3.8.7"
  }
 },
 "nbformat": 4,
 "nbformat_minor": 0
}
